{
 "cells": [
  {
   "cell_type": "markdown",
   "id": "behind-sunglasses",
   "metadata": {},
   "source": [
    "Here I will show how I process raw experimental data stored in binary files, containing millions of data points. For simplicity, I will use a file containing over 10 million data points, which were recorded during approximately 35 minutes. However, a typical magnetic tweezers experiment can last for several hours, so the files I usually need to process are much bigger than the one I used here.\n",
    "\n",
    "During a typical magnetic tweezers experiment, four parameters are recorded: the extension of the protein (in nm), the force applied to the protein (in pN), the absolute time (in s) and the position of the magnet.\n",
    "\n",
    "First, I read a binary file to an array, which I convert into a data frame.\n",
    "\n",
    "As you can see, the data frame contains only one column which includes all the recorded data. In this data, every point number 2+4n corresponds to an absolute time in seconds. Note, that this file had been recorded from the moment when time=20701.041016 seconds.\n",
    "\n",
    "Every point number 0+4n is the extension of the protein (in nm) measured in the moment when time = point 2+4n Every point number 1+4n is the force applied to the protein at each moment of time. Finally, every point number 3+4n represents the position of the magnet.\n",
    "\n",
    "For example, as you can see in the output below, points number 12 and number 16 are two measured extensions of the protein, 16.355019 nm and 6.418248 nm, and these two measurements were done when time = 20701.041016 sec (point number 14) and time = 20701.042969 sec (point number 18) respectively."
   ]
  },
  {
   "cell_type": "code",
   "execution_count": 1,
   "id": "referenced-certification",
   "metadata": {},
   "outputs": [
    {
     "name": "stdout",
     "output_type": "stream",
     "text": [
      "Number of points: 10573764\n"
     ]
    },
    {
     "data": {
      "text/html": [
       "<div>\n",
       "<style scoped>\n",
       "    .dataframe tbody tr th:only-of-type {\n",
       "        vertical-align: middle;\n",
       "    }\n",
       "\n",
       "    .dataframe tbody tr th {\n",
       "        vertical-align: top;\n",
       "    }\n",
       "\n",
       "    .dataframe thead th {\n",
       "        text-align: right;\n",
       "    }\n",
       "</style>\n",
       "<table border=\"1\" class=\"dataframe\">\n",
       "  <thead>\n",
       "    <tr style=\"text-align: right;\">\n",
       "      <th></th>\n",
       "      <th>0</th>\n",
       "    </tr>\n",
       "  </thead>\n",
       "  <tbody>\n",
       "    <tr>\n",
       "      <th>0</th>\n",
       "      <td>20.755337</td>\n",
       "    </tr>\n",
       "    <tr>\n",
       "      <th>1</th>\n",
       "      <td>4.030497</td>\n",
       "    </tr>\n",
       "    <tr>\n",
       "      <th>2</th>\n",
       "      <td>20701.041016</td>\n",
       "    </tr>\n",
       "    <tr>\n",
       "      <th>3</th>\n",
       "      <td>186.619186</td>\n",
       "    </tr>\n",
       "    <tr>\n",
       "      <th>4</th>\n",
       "      <td>13.835124</td>\n",
       "    </tr>\n",
       "    <tr>\n",
       "      <th>5</th>\n",
       "      <td>4.030542</td>\n",
       "    </tr>\n",
       "    <tr>\n",
       "      <th>6</th>\n",
       "      <td>20701.041016</td>\n",
       "    </tr>\n",
       "    <tr>\n",
       "      <th>7</th>\n",
       "      <td>186.620865</td>\n",
       "    </tr>\n",
       "    <tr>\n",
       "      <th>8</th>\n",
       "      <td>12.065634</td>\n",
       "    </tr>\n",
       "    <tr>\n",
       "      <th>9</th>\n",
       "      <td>4.030542</td>\n",
       "    </tr>\n",
       "    <tr>\n",
       "      <th>10</th>\n",
       "      <td>20701.041016</td>\n",
       "    </tr>\n",
       "    <tr>\n",
       "      <th>11</th>\n",
       "      <td>186.620865</td>\n",
       "    </tr>\n",
       "    <tr>\n",
       "      <th>12</th>\n",
       "      <td>16.355019</td>\n",
       "    </tr>\n",
       "    <tr>\n",
       "      <th>13</th>\n",
       "      <td>4.032350</td>\n",
       "    </tr>\n",
       "    <tr>\n",
       "      <th>14</th>\n",
       "      <td>20701.041016</td>\n",
       "    </tr>\n",
       "    <tr>\n",
       "      <th>15</th>\n",
       "      <td>186.688339</td>\n",
       "    </tr>\n",
       "    <tr>\n",
       "      <th>16</th>\n",
       "      <td>6.418248</td>\n",
       "    </tr>\n",
       "    <tr>\n",
       "      <th>17</th>\n",
       "      <td>4.032350</td>\n",
       "    </tr>\n",
       "    <tr>\n",
       "      <th>18</th>\n",
       "      <td>20701.042969</td>\n",
       "    </tr>\n",
       "    <tr>\n",
       "      <th>19</th>\n",
       "      <td>186.688339</td>\n",
       "    </tr>\n",
       "  </tbody>\n",
       "</table>\n",
       "</div>"
      ],
      "text/plain": [
       "               0\n",
       "0      20.755337\n",
       "1       4.030497\n",
       "2   20701.041016\n",
       "3     186.619186\n",
       "4      13.835124\n",
       "5       4.030542\n",
       "6   20701.041016\n",
       "7     186.620865\n",
       "8      12.065634\n",
       "9       4.030542\n",
       "10  20701.041016\n",
       "11    186.620865\n",
       "12     16.355019\n",
       "13      4.032350\n",
       "14  20701.041016\n",
       "15    186.688339\n",
       "16      6.418248\n",
       "17      4.032350\n",
       "18  20701.042969\n",
       "19    186.688339"
      ]
     },
     "execution_count": 1,
     "metadata": {},
     "output_type": "execute_result"
    }
   ],
   "source": [
    "import numpy as np\n",
    "import pandas as pd\n",
    "\n",
    "File ='MT3Data_bin'\n",
    "Trace = np.fromfile(File, dtype=np.float32, sep='')  #Trace contains extension, time, force, and magnet position (or current) data.\n",
    "\n",
    "Nmpnts=len(Trace)# calculating the total number of points in the file\n",
    "\n",
    "df = pd.DataFrame(Trace, columns=Trace.dtype.names)\n",
    "\n",
    "print(\"Number of points: \"+str(Nmpnts))\n",
    "df.head(20)"
   ]
  },
  {
   "cell_type": "markdown",
   "id": "pacific-kingdom",
   "metadata": {},
   "source": [
    "First, we need to clean the data.\n",
    "\n",
    "Let me visualize below the behaviour of the protein extension throughout the experiment. As you can see, during almost the whole duration of the experiment, the extension of the protein was changing between 0 and 100 nm, but, in the end of the experiment, this parameter dropped drastically till -800 nm.\n",
    "\n",
    "Note, that these values of extension are relative to some initial extension in nm, so in principle they can be negative. Obviously, the 800 nm difference between the initial values of the extension and the ones we observe towards the end of the experiment does not make sense. This change of extension is due to the fact that the experiment got disrupted, and all the data starting from that moment is not representative."
   ]
  },
  {
   "cell_type": "code",
   "execution_count": 2,
   "id": "hourly-address",
   "metadata": {},
   "outputs": [
    {
     "data": {
      "text/plain": [
       "Text(0.5, 0, 'points')"
      ]
     },
     "execution_count": 2,
     "metadata": {},
     "output_type": "execute_result"
    },
    {
     "data": {
      "image/png": "[encoded data removed]",
      "text/plain": [
       "<Figure size 432x288 with 1 Axes>"
      ]
     },
     "metadata": {
      "needs_background": "light"
     },
     "output_type": "display_data"
    }
   ],
   "source": [
    "import matplotlib.pyplot as plt\n",
    "\n",
    "#Magic command to display plots\n",
    "%matplotlib inline \n",
    "\n",
    "plt.plot(df[0:Nmpnts:4])  #Plot extension vs number of points along the entire length of the Trace vector. Every 4 positions from the beginning you find an extension data point.\n",
    "plt.ylabel('extension (nm)')\n",
    "plt.xlabel('points')"
   ]
  },
  {
   "cell_type": "markdown",
   "id": "unavailable-television",
   "metadata": {},
   "source": [
    "We can delete these non-representative data by removing the needed amount of rows from tail of the data frame."
   ]
  },
  {
   "cell_type": "code",
   "execution_count": 3,
   "id": "herbal-correspondence",
   "metadata": {},
   "outputs": [
    {
     "data": {
      "text/plain": [
       "Text(0.5, 0, 'points')"
      ]
     },
     "execution_count": 3,
     "metadata": {},
     "output_type": "execute_result"
    },
    {
     "data": {
      "image/png": "[encoded data removed]",
      "text/plain": [
       "<Figure size 432x288 with 1 Axes>"
      ]
     },
     "metadata": {
      "needs_background": "light"
     },
     "output_type": "display_data"
    }
   ],
   "source": [
    "df.drop(df.tail(1040).index,inplace=True) # drop last n rows, cleaning the data after the point at wich the experiment got disrupted\n",
    "\n",
    "plt.plot(df[0:Nmpnts:4])  #Plot extension vs number of points along the entire length of the Trace vector. Every 4 positions from the beginning you find an extension data point.\n",
    "plt.ylabel('extension (nm)')\n",
    "plt.xlabel('points')"
   ]
  },
  {
   "cell_type": "markdown",
   "id": "greenhouse-modem",
   "metadata": {},
   "source": [
    "Look at how the protein extension behaves now. These data make much more sense."
   ]
  },
  {
   "cell_type": "markdown",
   "id": "detected-indonesia",
   "metadata": {},
   "source": [
    "In my opinion, it is very difficult to work with a data frame that contains values corresponding to different types of parameters stored in the same column.\n",
    "\n",
    "To make the data more comfortable to work with, we can create a new data frame with four columns, each of them containing the values of the corresponding parameter."
   ]
  },
  {
   "cell_type": "code",
   "execution_count": 4,
   "id": "limiting-residence",
   "metadata": {},
   "outputs": [
    {
     "data": {
      "text/html": [
       "<div>\n",
       "<style scoped>\n",
       "    .dataframe tbody tr th:only-of-type {\n",
       "        vertical-align: middle;\n",
       "    }\n",
       "\n",
       "    .dataframe tbody tr th {\n",
       "        vertical-align: top;\n",
       "    }\n",
       "\n",
       "    .dataframe thead th {\n",
       "        text-align: right;\n",
       "    }\n",
       "</style>\n",
       "<table border=\"1\" class=\"dataframe\">\n",
       "  <thead>\n",
       "    <tr style=\"text-align: right;\">\n",
       "      <th></th>\n",
       "      <th>extension</th>\n",
       "      <th>force</th>\n",
       "      <th>time</th>\n",
       "      <th>magnet position</th>\n",
       "    </tr>\n",
       "  </thead>\n",
       "  <tbody>\n",
       "    <tr>\n",
       "      <th>0</th>\n",
       "      <td>20.755337</td>\n",
       "      <td>4.030497</td>\n",
       "      <td>0.000000</td>\n",
       "      <td>186.619186</td>\n",
       "    </tr>\n",
       "    <tr>\n",
       "      <th>1</th>\n",
       "      <td>13.835124</td>\n",
       "      <td>4.030542</td>\n",
       "      <td>0.000000</td>\n",
       "      <td>186.620865</td>\n",
       "    </tr>\n",
       "    <tr>\n",
       "      <th>2</th>\n",
       "      <td>12.065634</td>\n",
       "      <td>4.030542</td>\n",
       "      <td>0.000000</td>\n",
       "      <td>186.620865</td>\n",
       "    </tr>\n",
       "    <tr>\n",
       "      <th>3</th>\n",
       "      <td>16.355019</td>\n",
       "      <td>4.032350</td>\n",
       "      <td>0.000000</td>\n",
       "      <td>186.688339</td>\n",
       "    </tr>\n",
       "    <tr>\n",
       "      <th>4</th>\n",
       "      <td>6.418248</td>\n",
       "      <td>4.032350</td>\n",
       "      <td>0.001953</td>\n",
       "      <td>186.688339</td>\n",
       "    </tr>\n",
       "    <tr>\n",
       "      <th>5</th>\n",
       "      <td>8.395434</td>\n",
       "      <td>4.032699</td>\n",
       "      <td>0.001953</td>\n",
       "      <td>186.701355</td>\n",
       "    </tr>\n",
       "    <tr>\n",
       "      <th>6</th>\n",
       "      <td>4.543797</td>\n",
       "      <td>4.030675</td>\n",
       "      <td>0.001953</td>\n",
       "      <td>186.625824</td>\n",
       "    </tr>\n",
       "    <tr>\n",
       "      <th>7</th>\n",
       "      <td>2.815779</td>\n",
       "      <td>4.030675</td>\n",
       "      <td>0.001953</td>\n",
       "      <td>186.625824</td>\n",
       "    </tr>\n",
       "    <tr>\n",
       "      <th>8</th>\n",
       "      <td>9.318281</td>\n",
       "      <td>4.030717</td>\n",
       "      <td>0.003906</td>\n",
       "      <td>186.627396</td>\n",
       "    </tr>\n",
       "    <tr>\n",
       "      <th>9</th>\n",
       "      <td>15.117812</td>\n",
       "      <td>4.032041</td>\n",
       "      <td>0.003906</td>\n",
       "      <td>186.676788</td>\n",
       "    </tr>\n",
       "  </tbody>\n",
       "</table>\n",
       "</div>"
      ],
      "text/plain": [
       "   extension     force      time  magnet position\n",
       "0  20.755337  4.030497  0.000000       186.619186\n",
       "1  13.835124  4.030542  0.000000       186.620865\n",
       "2  12.065634  4.030542  0.000000       186.620865\n",
       "3  16.355019  4.032350  0.000000       186.688339\n",
       "4   6.418248  4.032350  0.001953       186.688339\n",
       "5   8.395434  4.032699  0.001953       186.701355\n",
       "6   4.543797  4.030675  0.001953       186.625824\n",
       "7   2.815779  4.030675  0.001953       186.625824\n",
       "8   9.318281  4.030717  0.003906       186.627396\n",
       "9  15.117812  4.032041  0.003906       186.676788"
      ]
     },
     "execution_count": 4,
     "metadata": {},
     "output_type": "execute_result"
    }
   ],
   "source": [
    "new_n_points=round(Nmpnts/4)# calculation the number of rows in the new data frame\n",
    "\n",
    "#setting empty lists for data corresponding to extension, force, time and magnet position correspondingly\n",
    "col0=[]\n",
    "col1=[]\n",
    "col2=[]\n",
    "col3=[]\n",
    "\n",
    "#setting the initial index values\n",
    "a0=0\n",
    "a1=1\n",
    "a2=2\n",
    "a3=3\n",
    "\n",
    "#building four new data frames, each of them containing one column with the corresponding parameter\n",
    "for i in range(new_n_points):\n",
    "    col0.append(Trace[a0])\n",
    "    col1.append(Trace[a1])\n",
    "    col2.append(Trace[a2])\n",
    "    col3.append(Trace[a3])\n",
    "    a0=a0+4\n",
    "    a1=a1+4\n",
    "    a2=a2+4\n",
    "    a3=a3+4\n",
    "\n",
    "#setting the names of the columns accordingly to the parameter they represent\n",
    "df0 = pd.DataFrame (col0, columns = ['extension'])\n",
    "df1 = pd.DataFrame (col1, columns = ['force'])\n",
    "df2 = pd.DataFrame (col2-col2[0], columns = ['time'])# here we set the initial time to 0 seconds so the data can be read in a more comprehensive way\n",
    "df3 = pd.DataFrame (col3, columns = ['magnet position'])\n",
    "\n",
    "#merging the four data frames into a unique data frame containing all the parameters\n",
    "dat= pd.concat([df0, df1,df2,df3],axis=1,join='inner')\n",
    "\n",
    "dat.head(10)"
   ]
  },
  {
   "cell_type": "markdown",
   "id": "following-verification",
   "metadata": {},
   "source": [
    "Now it is more convenient to work with the experimental data, let's play with it!\n",
    "\n",
    "Protein molecules are polymers. Upon application of force, the extension of a protein molecule increases because of a simple stretching (just like the extension of a spring increments if we pull on it).\n",
    "\n",
    "Additionally, mechanical force applied to a protein can also provoke unfolding of the protein 3D structure. In this case, the extension of the protein will gain an additional increment.\n",
    "\n",
    "Let's take a look at the first 20 seconds of the experiment:"
   ]
  },
  {
   "cell_type": "code",
   "execution_count": 5,
   "id": "changing-therapy",
   "metadata": {},
   "outputs": [
    {
     "data": {
      "image/png": "[encoded data removed]",
      "text/plain": [
       "<Figure size 720x504 with 2 Axes>"
      ]
     },
     "metadata": {
      "needs_background": "light"
     },
     "output_type": "display_data"
    }
   ],
   "source": [
    "#Setting the interval of the data we want to plot\n",
    "#dat.drop(dat.head(1410000).index,inplace=True)#drop first n rows if you want\n",
    "dat.drop(dat.tail(2620000).index,inplace=True) # drop last n rows to exclude the points of extreme extension \n",
    "\n",
    "#Creating two sublots: the one showing the change in protein's extension over time,\n",
    "#and the one showing the change in applied forceo over time.\n",
    "fig, f = plt.subplots(2,1,sharex=True,sharey=True,figsize=(10,7))\n",
    "f[0].plot(dat.iloc[:,2],dat.iloc[:,0],color='silver')\n",
    "f[0].set(ylabel='extension (nm)')\n",
    "f[0].text(0.2, 0.55, 'folded', horizontalalignment='center', verticalalignment='center', transform=f[0].transAxes)\n",
    "f[0].text(0.25, 0.72, 'unfolded', horizontalalignment='center', verticalalignment='center', transform=f[0].transAxes)\n",
    "\n",
    "f[1].plot(dat.iloc[:,2],dat.iloc[:,1],color='red')\n",
    "plt.xlabel('time (s)')\n",
    "f[1].set(ylabel='force (pN)')\n",
    "\n",
    "plt.text(0,10,'force=4 pN')\n",
    "plt.text(5,16,'force=10 pN')\n",
    "fig.subplots_adjust(hspace=0)"
   ]
  },
  {
   "cell_type": "markdown",
   "id": "related-moment",
   "metadata": {},
   "source": [
    "First, look at the sublot at the bottom. It shows how the applied force changed during the first 20 seconds of the experiment.\n",
    "After approximately 3 seconds from the start of the experiment, the force changed from 4 pN to 10 pN.\n",
    "\n",
    "Now let's look at the subplot at the top. In the moment, in which the force increases, the extension of the protein also increases (from 10 to 30 nm approximately). This is due to the mechanical elastic stretching of the protein.\n",
    "\n",
    "But then after a few moments, we see another increment in the protein's extension (from 30 to 50 nm) which is followed by the return of the extension to the previous position. Later on, the protein molecule's extension increases and decreases again and again. These increments and drops of extension at are due to the unfolding and folding of the protein's 3D structure.\n",
    "\n",
    "When the protein unfolds, we observe an increment in extension, when the protein folds back, we see the protein's extension shorten to the previous level. Thus, at 10 pN, the protein is found in the equilibrium between these two states: folded and unfolded."
   ]
  },
  {
   "cell_type": "markdown",
   "id": "suffering-anger",
   "metadata": {},
   "source": [
    "\n",
    "The data we are working with here does not have any drift, i.e. the measured extension signal is flat. However, this not always the case. In many cases, for the reasons explained here (DOI: 10.1146/annurev-biophys-122311-100544), the extension recorded during an experiment drifts (it is consistently over- or underestimated, so the extension signal looks positively or negatively tilted).\n",
    "\n",
    "Now I will simulate a positive drift of the extension data from our experiment by tilting the ‘extension’ column from our ‘dat’ data frame and I will create a new data frame with the simulated  drifted extension data instead of the original extension data."
   ]
  },
  {
   "cell_type": "code",
   "execution_count": 7,
   "id": "handled-distinction",
   "metadata": {},
   "outputs": [
    {
     "data": {
      "text/html": [
       "<div>\n",
       "<style scoped>\n",
       "    .dataframe tbody tr th:only-of-type {\n",
       "        vertical-align: middle;\n",
       "    }\n",
       "\n",
       "    .dataframe tbody tr th {\n",
       "        vertical-align: top;\n",
       "    }\n",
       "\n",
       "    .dataframe thead th {\n",
       "        text-align: right;\n",
       "    }\n",
       "</style>\n",
       "<table border=\"1\" class=\"dataframe\">\n",
       "  <thead>\n",
       "    <tr style=\"text-align: right;\">\n",
       "      <th></th>\n",
       "      <th>force</th>\n",
       "      <th>time</th>\n",
       "      <th>magnet position</th>\n",
       "      <th>simulated_drifted_extension</th>\n",
       "    </tr>\n",
       "  </thead>\n",
       "  <tbody>\n",
       "    <tr>\n",
       "      <th>0</th>\n",
       "      <td>4.030497</td>\n",
       "      <td>0.000000</td>\n",
       "      <td>186.619186</td>\n",
       "      <td>20.755337</td>\n",
       "    </tr>\n",
       "    <tr>\n",
       "      <th>1</th>\n",
       "      <td>4.030542</td>\n",
       "      <td>0.000000</td>\n",
       "      <td>186.620865</td>\n",
       "      <td>13.836992</td>\n",
       "    </tr>\n",
       "    <tr>\n",
       "      <th>2</th>\n",
       "      <td>4.030542</td>\n",
       "      <td>0.000000</td>\n",
       "      <td>186.620865</td>\n",
       "      <td>12.069370</td>\n",
       "    </tr>\n",
       "    <tr>\n",
       "      <th>3</th>\n",
       "      <td>4.032350</td>\n",
       "      <td>0.000000</td>\n",
       "      <td>186.688339</td>\n",
       "      <td>16.360623</td>\n",
       "    </tr>\n",
       "    <tr>\n",
       "      <th>4</th>\n",
       "      <td>4.032350</td>\n",
       "      <td>0.001953</td>\n",
       "      <td>186.688339</td>\n",
       "      <td>6.425720</td>\n",
       "    </tr>\n",
       "    <tr>\n",
       "      <th>5</th>\n",
       "      <td>4.032699</td>\n",
       "      <td>0.001953</td>\n",
       "      <td>186.701355</td>\n",
       "      <td>8.404774</td>\n",
       "    </tr>\n",
       "    <tr>\n",
       "      <th>6</th>\n",
       "      <td>4.030675</td>\n",
       "      <td>0.001953</td>\n",
       "      <td>186.625824</td>\n",
       "      <td>4.555004</td>\n",
       "    </tr>\n",
       "    <tr>\n",
       "      <th>7</th>\n",
       "      <td>4.030675</td>\n",
       "      <td>0.001953</td>\n",
       "      <td>186.625824</td>\n",
       "      <td>2.828855</td>\n",
       "    </tr>\n",
       "    <tr>\n",
       "      <th>8</th>\n",
       "      <td>4.030717</td>\n",
       "      <td>0.003906</td>\n",
       "      <td>186.627396</td>\n",
       "      <td>9.333225</td>\n",
       "    </tr>\n",
       "    <tr>\n",
       "      <th>9</th>\n",
       "      <td>4.032041</td>\n",
       "      <td>0.003906</td>\n",
       "      <td>186.676788</td>\n",
       "      <td>15.134624</td>\n",
       "    </tr>\n",
       "  </tbody>\n",
       "</table>\n",
       "</div>"
      ],
      "text/plain": [
       "      force      time  magnet position  simulated_drifted_extension\n",
       "0  4.030497  0.000000       186.619186                    20.755337\n",
       "1  4.030542  0.000000       186.620865                    13.836992\n",
       "2  4.030542  0.000000       186.620865                    12.069370\n",
       "3  4.032350  0.000000       186.688339                    16.360623\n",
       "4  4.032350  0.001953       186.688339                     6.425720\n",
       "5  4.032699  0.001953       186.701355                     8.404774\n",
       "6  4.030675  0.001953       186.625824                     4.555004\n",
       "7  4.030675  0.001953       186.625824                     2.828855\n",
       "8  4.030717  0.003906       186.627396                     9.333225\n",
       "9  4.032041  0.003906       186.676788                    15.134624"
      ]
     },
     "execution_count": 7,
     "metadata": {},
     "output_type": "execute_result"
    }
   ],
   "source": [
    "dat_drift=dat.drop(['extension'],axis=1)\n",
    "\n",
    "for i in range(dat_drift.shape[0]):\n",
    "    dat_drift.loc[i,'simulated_drifted_extension']=dat.loc[i,'extension']+0.00009*i*dat.loc[0,'extension']\n",
    "\n",
    "dat_drift.head(10)"
   ]
  },
  {
   "cell_type": "markdown",
   "id": "roman-breed",
   "metadata": {},
   "source": [
    "Look at the plot below. The extension signal is tilted."
   ]
  },
  {
   "cell_type": "code",
   "execution_count": 8,
   "id": "increasing-somerset",
   "metadata": {},
   "outputs": [
    {
     "data": {
      "text/plain": [
       "Text(0.5, 0, 'time (s)')"
      ]
     },
     "execution_count": 8,
     "metadata": {},
     "output_type": "execute_result"
    },
    {
     "data": {
      "image/png": "[encoded data removed]",
      "text/plain": [
       "<Figure size 432x288 with 1 Axes>"
      ]
     },
     "metadata": {
      "needs_background": "light"
     },
     "output_type": "display_data"
    }
   ],
   "source": [
    "plt.plot(dat_drift['time'],dat_drift['simulated_drifted_extension'])\n",
    "plt.ylabel('extension (nm)')\n",
    "plt.xlabel('time (s)')"
   ]
  },
  {
   "cell_type": "markdown",
   "id": "cleared-authority",
   "metadata": {},
   "source": [
    "We cannot use this data for analysis, since we will not be able to correctly assign levels for the extension. To proceed to data analysis, we need to correct the drift of the extension.\n",
    "We can do it by finding the velocity of the drift, i.e., the tangents of the angle between the trend of the extension and line parallel to the x axis. Then, we need to manipulate the drifted extension data so it is rotated to the desirable flat signal.\n",
    "\n",
    "To find the velocity of the extension drift, we will fit this data with a linear model kx+b, where x is time. The coefficient k is the velocity of the drift and is the tangents of the angle between the drift trend and the horizontal axis. "
   ]
  },
  {
   "cell_type": "code",
   "execution_count": 9,
   "id": "demanding-soundtrack",
   "metadata": {},
   "outputs": [
    {
     "name": "stdout",
     "output_type": "stream",
     "text": [
      "parameter b: 21.583820561470034   parameter k: 3.5518489575670342\n"
     ]
    }
   ],
   "source": [
    "import statsmodels.formula.api as sm \n",
    "\n",
    "####m_drift :a linear model to estimate the velocity of the drift, kx+b ####################\n",
    "results_m_drift=sm.ols('simulated_drifted_extension ~ time', data=dat_drift).fit()\n",
    "\n",
    "#Saving parameters for the m_drift (lienear model): b and k\n",
    "parameters_m_drift=results_m_drift.params\n",
    "\n",
    "print(\"parameter b: \" + str(parameters_m_drift[0])+\"   parameter k: \"+ str(parameters_m_drift[1]))"
   ]
  },
  {
   "cell_type": "markdown",
   "id": "isolated-saturn",
   "metadata": {},
   "source": [
    "Let me plot the obtained linear model. As you can see, it describes quite accurately the drift of the extension. "
   ]
  },
  {
   "cell_type": "code",
   "execution_count": 10,
   "id": "proud-isaac",
   "metadata": {},
   "outputs": [
    {
     "data": {
      "text/plain": [
       "Text(0.5, 0, 'time (s)')"
      ]
     },
     "execution_count": 10,
     "metadata": {},
     "output_type": "execute_result"
    },
    {
     "data": {
      "image/png": "[encoded data removed]",
      "text/plain": [
       "<Figure size 432x288 with 1 Axes>"
      ]
     },
     "metadata": {
      "needs_background": "light"
     },
     "output_type": "display_data"
    }
   ],
   "source": [
    "#Here I simulate the line that represents our linear model\n",
    "x =  np.array(range(0,20))\n",
    "y = parameters_m_drift['time']*x+parameters_m_drift['Intercept']\n",
    "\n",
    "#Plotting the drifted extension vs. time together with the linear model\n",
    "plt.plot(dat_drift['time'],dat_drift['simulated_drifted_extension'])\n",
    "plt.plot(x,y)\n",
    "plt.ylabel('extension (nm)')\n",
    "plt.xlabel('time (s)')"
   ]
  },
  {
   "cell_type": "markdown",
   "id": "fabulous-funeral",
   "metadata": {},
   "source": [
    "Now, knowing the velocity of the drift, we can corrected the observed extension data."
   ]
  },
  {
   "cell_type": "code",
   "execution_count": 11,
   "id": "particular-christmas",
   "metadata": {},
   "outputs": [
    {
     "data": {
      "text/html": [
       "<div>\n",
       "<style scoped>\n",
       "    .dataframe tbody tr th:only-of-type {\n",
       "        vertical-align: middle;\n",
       "    }\n",
       "\n",
       "    .dataframe tbody tr th {\n",
       "        vertical-align: top;\n",
       "    }\n",
       "\n",
       "    .dataframe thead th {\n",
       "        text-align: right;\n",
       "    }\n",
       "</style>\n",
       "<table border=\"1\" class=\"dataframe\">\n",
       "  <thead>\n",
       "    <tr style=\"text-align: right;\">\n",
       "      <th></th>\n",
       "      <th>force</th>\n",
       "      <th>time</th>\n",
       "      <th>magnet position</th>\n",
       "      <th>drift_corrected</th>\n",
       "    </tr>\n",
       "  </thead>\n",
       "  <tbody>\n",
       "    <tr>\n",
       "      <th>0</th>\n",
       "      <td>4.030497</td>\n",
       "      <td>0.000000</td>\n",
       "      <td>186.619186</td>\n",
       "      <td>20.755337</td>\n",
       "    </tr>\n",
       "    <tr>\n",
       "      <th>1</th>\n",
       "      <td>4.030542</td>\n",
       "      <td>0.000000</td>\n",
       "      <td>186.620865</td>\n",
       "      <td>13.836992</td>\n",
       "    </tr>\n",
       "    <tr>\n",
       "      <th>2</th>\n",
       "      <td>4.030542</td>\n",
       "      <td>0.000000</td>\n",
       "      <td>186.620865</td>\n",
       "      <td>12.069370</td>\n",
       "    </tr>\n",
       "    <tr>\n",
       "      <th>3</th>\n",
       "      <td>4.032350</td>\n",
       "      <td>0.000000</td>\n",
       "      <td>186.688339</td>\n",
       "      <td>16.360623</td>\n",
       "    </tr>\n",
       "    <tr>\n",
       "      <th>4</th>\n",
       "      <td>4.032350</td>\n",
       "      <td>0.001953</td>\n",
       "      <td>186.688339</td>\n",
       "      <td>6.420725</td>\n",
       "    </tr>\n",
       "  </tbody>\n",
       "</table>\n",
       "</div>"
      ],
      "text/plain": [
       "      force      time  magnet position  drift_corrected\n",
       "0  4.030497  0.000000       186.619186        20.755337\n",
       "1  4.030542  0.000000       186.620865        13.836992\n",
       "2  4.030542  0.000000       186.620865        12.069370\n",
       "3  4.032350  0.000000       186.688339        16.360623\n",
       "4  4.032350  0.001953       186.688339         6.420725"
      ]
     },
     "execution_count": 11,
     "metadata": {},
     "output_type": "execute_result"
    }
   ],
   "source": [
    "#Creating a new data frame for the corrected extension data\n",
    "dat_corrected=dat_drift.drop(['simulated_drifted_extension'],axis=1)\n",
    "\n",
    "#Adding a column with the corrected extension data\n",
    "for i in range(dat_corrected.shape[0]):\n",
    "    dat_corrected.loc[i,'drift_corrected']=dat_drift.loc[i,'simulated_drifted_extension']-0.72*(parameters_m_drift['time'])*dat_drift.loc[i,'time']\n",
    "\n",
    "dat_corrected.head()"
   ]
  },
  {
   "cell_type": "markdown",
   "id": "controlling-wednesday",
   "metadata": {},
   "source": [
    "Let me plot the corrected data to check how it looks like."
   ]
  },
  {
   "cell_type": "code",
   "execution_count": 12,
   "id": "closing-topic",
   "metadata": {},
   "outputs": [
    {
     "data": {
      "text/plain": [
       "Text(0.5, 0, 'time (s)')"
      ]
     },
     "execution_count": 12,
     "metadata": {},
     "output_type": "execute_result"
    },
    {
     "data": {
      "image/png": "[encoded data removed]",
      "text/plain": [
       "<Figure size 432x288 with 1 Axes>"
      ]
     },
     "metadata": {
      "needs_background": "light"
     },
     "output_type": "display_data"
    }
   ],
   "source": [
    "#Plotting the corrected extension vs. time\n",
    "plt.plot(dat_corrected['time'],dat_corrected['drift_corrected'])\n",
    "plt.ylabel('extension (nm)')\n",
    "plt.xlabel('time (s)')"
   ]
  },
  {
   "cell_type": "markdown",
   "id": "corresponding-sender",
   "metadata": {},
   "source": [
    "You can see that we obtained a flat signal without any drift. Now we can proceed to the data analysis."
   ]
  }
 ],
 "metadata": {
  "kernelspec": {
   "display_name": "Python 3",
   "language": "python",
   "name": "python3"
  },
  "language_info": {
   "codemirror_mode": {
    "name": "ipython",
    "version": 3
   },
   "file_extension": ".py",
   "mimetype": "text/x-python",
   "name": "python",
   "nbconvert_exporter": "python",
   "pygments_lexer": "ipython3",
   "version": "3.9.2"
  }
 },
 "nbformat": 4,
 "nbformat_minor": 5
}
